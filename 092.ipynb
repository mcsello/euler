{
 "cells": [
  {
   "cell_type": "markdown",
   "metadata": {},
   "source": [
    "final code"
   ]
  },
  {
   "cell_type": "code",
   "execution_count": 1,
   "metadata": {},
   "outputs": [],
   "source": [
    "# from tqdm import tqdm_notebook as tqdm\n",
    "# import numpy as np"
   ]
  },
  {
   "cell_type": "code",
   "execution_count": 2,
   "metadata": {},
   "outputs": [],
   "source": [
    "square = [i**2 for i in range(10)]"
   ]
  },
  {
   "cell_type": "code",
   "execution_count": 3,
   "metadata": {},
   "outputs": [],
   "source": [
    "# def dig_sqr_sum(n):\n",
    "#     if n > 0:\n",
    "#         return square[n%10] + dig_sqr_sum(n//10)\n",
    "#     else:\n",
    "#         return n"
   ]
  },
  {
   "cell_type": "code",
   "execution_count": 4,
   "metadata": {},
   "outputs": [],
   "source": [
    "# def dig_sqr_sum(n):\n",
    "#     return square[n%10] + dig_sqr_sum(n//10) if n > 0 else n"
   ]
  },
  {
   "cell_type": "code",
   "execution_count": 5,
   "metadata": {},
   "outputs": [],
   "source": [
    "def dig_sqr_sum(n):\n",
    "    res = 0\n",
    "    while n > 0:\n",
    "        res += square[n%10]\n",
    "        n //= 10\n",
    "    return res"
   ]
  },
  {
   "cell_type": "code",
   "execution_count": 6,
   "metadata": {},
   "outputs": [
    {
     "data": {
      "text/plain": [
       "567"
      ]
     },
     "execution_count": 6,
     "metadata": {},
     "output_type": "execute_result"
    }
   ],
   "source": [
    "dig_sqr_sum(9999999)"
   ]
  },
  {
   "cell_type": "code",
   "execution_count": 7,
   "metadata": {},
   "outputs": [
    {
     "name": "stdout",
     "output_type": "stream",
     "text": [
      "Wall time: 10.5 s\n"
     ]
    }
   ],
   "source": [
    "%%time\n",
    "max_n = 9999999\n",
    "set_89 = {89}\n",
    "set_1 = {1}\n",
    "set_1_89 = {1, 89}\n",
    "# for n in tqdm(range(1, max_n + 1)):\n",
    "for n in range(1, dig_sqr_sum(max_n) + 1):\n",
    "    queue = []\n",
    "    while n not in set_1_89:\n",
    "        queue.append(n)\n",
    "        n = dig_sqr_sum(n)\n",
    "    if n in set_1:\n",
    "        set_1.update(queue)\n",
    "    else:\n",
    "        set_89.update(queue)\n",
    "    set_1_89.update(queue)\n",
    "for n in range(dig_sqr_sum(max_n) + 1, max_n + 1):\n",
    "    if dig_sqr_sum(n) in set_1:\n",
    "        set_1.add(n)\n",
    "    else:\n",
    "        set_89.add(n)"
   ]
  },
  {
   "cell_type": "code",
   "execution_count": 8,
   "metadata": {},
   "outputs": [
    {
     "name": "stdout",
     "output_type": "stream",
     "text": [
      "8581146 starting numbers below ten million will arrive at 89\n"
     ]
    }
   ],
   "source": [
    "# solution\n",
    "print(len(set_89 & set(range(max_n + 1))), 'starting numbers below ten million will arrive at 89')"
   ]
  },
  {
   "cell_type": "code",
   "execution_count": 9,
   "metadata": {},
   "outputs": [
    {
     "data": {
      "text/plain": [
       "(1418853, 8581146)"
      ]
     },
     "execution_count": 9,
     "metadata": {},
     "output_type": "execute_result"
    }
   ],
   "source": [
    "# interesting\n",
    "len(set_1), len(set_89)"
   ]
  },
  {
   "cell_type": "code",
   "execution_count": 10,
   "metadata": {},
   "outputs": [
    {
     "data": {
      "text/plain": [
       "(1418853, 8581146)"
      ]
     },
     "execution_count": 10,
     "metadata": {},
     "output_type": "execute_result"
    }
   ],
   "source": [
    "# check\n",
    "len(set_1 & set(range(max_n + 1))), len(set_89 & set(range(max_n + 1)))"
   ]
  },
  {
   "cell_type": "code",
   "execution_count": 11,
   "metadata": {},
   "outputs": [
    {
     "data": {
      "text/plain": [
       "True"
      ]
     },
     "execution_count": 11,
     "metadata": {},
     "output_type": "execute_result"
    }
   ],
   "source": [
    "# check\n",
    "len(set_1 & set(range(max_n + 1))) + len(set_89 & set(range(max_n + 1))) == max_n"
   ]
  },
  {
   "cell_type": "markdown",
   "metadata": {},
   "source": [
    "workings"
   ]
  },
  {
   "cell_type": "code",
   "execution_count": 12,
   "metadata": {},
   "outputs": [],
   "source": [
    "n = 237"
   ]
  },
  {
   "cell_type": "code",
   "execution_count": 13,
   "metadata": {},
   "outputs": [
    {
     "data": {
      "text/plain": [
       "7"
      ]
     },
     "execution_count": 13,
     "metadata": {},
     "output_type": "execute_result"
    }
   ],
   "source": [
    "n%10"
   ]
  },
  {
   "cell_type": "code",
   "execution_count": 14,
   "metadata": {},
   "outputs": [
    {
     "data": {
      "text/plain": [
       "23"
      ]
     },
     "execution_count": 14,
     "metadata": {},
     "output_type": "execute_result"
    }
   ],
   "source": [
    "n //= 10\n",
    "n"
   ]
  },
  {
   "cell_type": "code",
   "execution_count": 15,
   "metadata": {},
   "outputs": [],
   "source": [
    "def dig_sqr_sum(n):\n",
    "    res = 0\n",
    "    while n > 0:\n",
    "        res += (n%10)**2\n",
    "        n //= 10\n",
    "    return res"
   ]
  },
  {
   "cell_type": "code",
   "execution_count": 16,
   "metadata": {},
   "outputs": [
    {
     "data": {
      "text/plain": [
       "(4, 6, 162, 0, 567)"
      ]
     },
     "execution_count": 16,
     "metadata": {},
     "output_type": "execute_result"
    }
   ],
   "source": [
    "dig_sqr_sum(1111), dig_sqr_sum(1021), dig_sqr_sum(99), dig_sqr_sum(0), dig_sqr_sum(int(1e7-1))"
   ]
  },
  {
   "cell_type": "code",
   "execution_count": 17,
   "metadata": {},
   "outputs": [
    {
     "name": "stdout",
     "output_type": "stream",
     "text": [
      "99\n",
      "162\n",
      "41\n",
      "17\n",
      "50\n",
      "25\n",
      "29\n",
      "85\n"
     ]
    }
   ],
   "source": [
    "n = 99\n",
    "while n not in {1, 89}:\n",
    "    print(n)\n",
    "    n = dig_sqr_sum(n)"
   ]
  },
  {
   "cell_type": "code",
   "execution_count": 18,
   "metadata": {},
   "outputs": [
    {
     "data": {
      "text/plain": [
       "{1, 89}"
      ]
     },
     "execution_count": 18,
     "metadata": {},
     "output_type": "execute_result"
    }
   ],
   "source": [
    "set_89 = {89}\n",
    "set_1 = {1}\n",
    "set_1_89 = set_1 | set_89\n",
    "set_1_89"
   ]
  },
  {
   "cell_type": "code",
   "execution_count": 19,
   "metadata": {},
   "outputs": [
    {
     "name": "stdout",
     "output_type": "stream",
     "text": [
      "99\n",
      "162\n",
      "41\n",
      "17\n",
      "50\n",
      "25\n",
      "29\n",
      "85\n"
     ]
    }
   ],
   "source": [
    "n = 99\n",
    "queue = []\n",
    "while n not in set_1_89:\n",
    "    print(n)\n",
    "    queue.append(n)\n",
    "    n = dig_sqr_sum(n)\n",
    "if n in set_1:\n",
    "    set_1.update(queue)\n",
    "else:\n",
    "    set_89.update(queue)\n",
    "set_1_89 = set_1 | set_89"
   ]
  },
  {
   "cell_type": "code",
   "execution_count": 20,
   "metadata": {},
   "outputs": [
    {
     "data": {
      "text/plain": [
       "({1},\n",
       " {17, 25, 29, 41, 50, 85, 89, 99, 162},\n",
       " {1, 17, 25, 29, 41, 50, 85, 89, 99, 162})"
      ]
     },
     "execution_count": 20,
     "metadata": {},
     "output_type": "execute_result"
    }
   ],
   "source": [
    "set_1, set_89, set_1_89"
   ]
  },
  {
   "cell_type": "code",
   "execution_count": 21,
   "metadata": {},
   "outputs": [],
   "source": [
    "set_89 = {89}\n",
    "set_1 = {1}\n",
    "set_1_89 = set_1 | set_89\n",
    "for n in range(1, 11):\n",
    "    queue = []\n",
    "    while n not in set_1_89:\n",
    "        queue.append(n)\n",
    "        n = dig_sqr_sum(n)\n",
    "    if n in set_1:\n",
    "        set_1.update(queue)\n",
    "    else:\n",
    "        set_89.update(queue)\n",
    "    set_1_89 = set_1 | set_89"
   ]
  },
  {
   "cell_type": "code",
   "execution_count": 22,
   "metadata": {},
   "outputs": [
    {
     "data": {
      "text/plain": [
       "(6, 24)"
      ]
     },
     "execution_count": 22,
     "metadata": {},
     "output_type": "execute_result"
    }
   ],
   "source": [
    "len(set_1), len(set_89)"
   ]
  },
  {
   "cell_type": "code",
   "execution_count": 23,
   "metadata": {},
   "outputs": [
    {
     "data": {
      "text/plain": [
       "(3, 7)"
      ]
     },
     "execution_count": 23,
     "metadata": {},
     "output_type": "execute_result"
    }
   ],
   "source": [
    "len(set_1 & set(range(11))), len(set_89 & set(range(11)))"
   ]
  },
  {
   "cell_type": "code",
   "execution_count": 24,
   "metadata": {},
   "outputs": [
    {
     "data": {
      "text/plain": [
       "({1, 7, 10}, {2, 3, 4, 5, 6, 8, 9})"
      ]
     },
     "execution_count": 24,
     "metadata": {},
     "output_type": "execute_result"
    }
   ],
   "source": [
    "set_1 & set(range(11)), set_89 & set(range(11))"
   ]
  },
  {
   "cell_type": "code",
   "execution_count": null,
   "metadata": {},
   "outputs": [],
   "source": []
  }
 ],
 "metadata": {
  "kernelspec": {
   "display_name": "Python 3",
   "language": "python",
   "name": "python3"
  },
  "language_info": {
   "codemirror_mode": {
    "name": "ipython",
    "version": 3
   },
   "file_extension": ".py",
   "mimetype": "text/x-python",
   "name": "python",
   "nbconvert_exporter": "python",
   "pygments_lexer": "ipython3",
   "version": "3.7.4"
  }
 },
 "nbformat": 4,
 "nbformat_minor": 2
}
