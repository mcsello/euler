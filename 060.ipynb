{
 "cells": [
  {
   "cell_type": "code",
   "execution_count": 1,
   "metadata": {},
   "outputs": [],
   "source": [
    "from multiprocessing import Pool\n",
    "from euler import is_prime, n_digits\n",
    "import sys\n",
    "from functools import partial, reduce\n",
    "from itertools import combinations, permutations\n",
    "from tqdm import tqdm_notebook as tqdm"
   ]
  },
  {
   "cell_type": "code",
   "execution_count": 2,
   "metadata": {},
   "outputs": [],
   "source": [
    "# def is_prime(n):\n",
    "#     if n == 2 or n == 3:\n",
    "#         return True\n",
    "#     if n == 1 or n%2 == 0: \n",
    "#         return False\n",
    "#     for i in range(\n",
    "#         3, \n",
    "#         int(n**0.5) + 1,\n",
    "#         2\n",
    "#     ):\n",
    "#         if n%i == 0:\n",
    "#             return False    \n",
    "#     return True\n",
    "\n",
    "# def n_digits(n):\n",
    "#     return len(str(n))"
   ]
  },
  {
   "cell_type": "code",
   "execution_count": 3,
   "metadata": {},
   "outputs": [],
   "source": [
    "def primes_up_to(n):\n",
    "    if n == 3:\n",
    "        return [2, 3]\n",
    "    primes = primes_up_to(n-1)\n",
    "    for i in [p for p in primes if p <= int(n**0.5)]:\n",
    "        if n%i == 0:\n",
    "            return primes\n",
    "    primes.append(n)\n",
    "    return primes"
   ]
  },
  {
   "cell_type": "code",
   "execution_count": 4,
   "metadata": {},
   "outputs": [
    {
     "name": "stdout",
     "output_type": "stream",
     "text": [
      "[2, 3, 5, 7, 11, 13, 17, 19, 23, 29, 31, 37, 41, 43, 47, 53, 59, 61, 67, 71, 73, 79, 83, 89, 97]\n"
     ]
    }
   ],
   "source": [
    "print(primes_up_to(100))"
   ]
  },
  {
   "cell_type": "code",
   "execution_count": 5,
   "metadata": {},
   "outputs": [
    {
     "name": "stdout",
     "output_type": "stream",
     "text": [
      "[2, 3, 5, 7, 11, 13, 17, 19, 23, 29, 31, 37, 41, 43, 47, 53, 59, 61, 67, 71, 73, 79, 83, 89, 97]\n"
     ]
    }
   ],
   "source": [
    "print([n for n in range(1, 100) if is_prime(n)])"
   ]
  },
  {
   "cell_type": "code",
   "execution_count": 6,
   "metadata": {},
   "outputs": [
    {
     "name": "stdout",
     "output_type": "stream",
     "text": [
      "[1, 1, 1, 1, 2, 2, 2, 2, 2, 2, 2, 2, 2, 2, 2, 2, 2, 2, 2, 2, 2, 2, 2, 2, 2]\n"
     ]
    }
   ],
   "source": [
    "print([n_digits(n) for n in range(1, 100) if is_prime(n)])"
   ]
  },
  {
   "cell_type": "code",
   "execution_count": 7,
   "metadata": {},
   "outputs": [],
   "source": [
    "pool = Pool(6)"
   ]
  },
  {
   "cell_type": "code",
   "execution_count": 8,
   "metadata": {},
   "outputs": [
    {
     "name": "stdout",
     "output_type": "stream",
     "text": [
      "78498\n",
      "Wall time: 595 ms\n"
     ]
    }
   ],
   "source": [
    "%%time\n",
    "\n",
    "primes = [\n",
    "    n + 1 \n",
    "    for n, is_p \n",
    "    in enumerate(pool.map(\n",
    "        is_prime, \n",
    "        range(1, int(1e6))\n",
    "    )) \n",
    "    if is_p\n",
    "]\n",
    "print(len(primes))"
   ]
  },
  {
   "cell_type": "code",
   "execution_count": 9,
   "metadata": {},
   "outputs": [
    {
     "name": "stdout",
     "output_type": "stream",
     "text": [
      "3\n",
      "7\n",
      "109\n",
      "199\n",
      "397\n",
      "Wall time: 6.95 ms\n"
     ]
    }
   ],
   "source": [
    "%%time\n",
    "\n",
    "i = 0\n",
    "for p in primes:\n",
    "    if is_prime(673*10**n_digits(p) + p) and is_prime(p*1000 + 673):\n",
    "        print(p)\n",
    "        i += 1\n",
    "        if i == 5:\n",
    "            break"
   ]
  },
  {
   "cell_type": "code",
   "execution_count": 10,
   "metadata": {},
   "outputs": [],
   "source": [
    "# def is_prime(n, primes_smaller):\n",
    "#     for i in primes_smaller:\n",
    "#         if n%i == 0:\n",
    "#             return False    \n",
    "#     return True"
   ]
  },
  {
   "cell_type": "code",
   "execution_count": 11,
   "metadata": {
    "scrolled": true
   },
   "outputs": [
    {
     "name": "stdout",
     "output_type": "stream",
     "text": [
      "[11, 13, 17, 19, 23, 29, 31, 37, 41, 43, 47, 53, 59, 61, 67, 71, 73, 79, 83, 89, 97]\n"
     ]
    }
   ],
   "source": [
    "print([n for n in range(10, 100) if is_prime(n, [2, 3, 5, 7])])"
   ]
  },
  {
   "cell_type": "code",
   "execution_count": 12,
   "metadata": {},
   "outputs": [
    {
     "name": "stdout",
     "output_type": "stream",
     "text": [
      "78498\n",
      "Wall time: 6.75 s\n"
     ]
    }
   ],
   "source": [
    "%%time\n",
    "\n",
    "primes = [2, 3, 5, 7]\n",
    "for i in range(5):\n",
    "    range_min = 2**(2**i)\n",
    "    new_primes = [\n",
    "        n + range_min \n",
    "        for n, is_p \n",
    "        in enumerate(pool.map(\n",
    "            partial(is_prime, primes_smaller=primes), \n",
    "            range(range_min, min(range_min**2, int(1e6)))\n",
    "        )) \n",
    "        if is_p\n",
    "    ]\n",
    "    primes += new_primes\n",
    "print(len(primes))"
   ]
  },
  {
   "cell_type": "code",
   "execution_count": 13,
   "metadata": {},
   "outputs": [
    {
     "data": {
      "text/plain": [
       "4294.967296"
      ]
     },
     "execution_count": 13,
     "metadata": {},
     "output_type": "execute_result"
    }
   ],
   "source": [
    "range_min**2 / int(1e6)"
   ]
  },
  {
   "cell_type": "code",
   "execution_count": 14,
   "metadata": {},
   "outputs": [
    {
     "data": {
      "application/vnd.jupyter.widget-view+json": {
       "model_id": "d2f036bd3c974a59ba957c34bc2ecd06",
       "version_major": 2,
       "version_minor": 0
      },
      "text/plain": [
       "HBox(children=(IntProgress(value=0, max=78498), HTML(value='')))"
      ]
     },
     "metadata": {},
     "output_type": "display_data"
    },
    {
     "name": "stdout",
     "output_type": "stream",
     "text": [
      "673\n",
      "29059\n",
      "79693\n",
      "Wall time: 2.32 s\n"
     ]
    }
   ],
   "source": [
    "%%time\n",
    "\n",
    "i = 0\n",
    "for p in tqdm(primes):\n",
    "    if all(pool.map(\n",
    "        is_prime, \n",
    "        [\n",
    "#             673*10**n_digits(p) + p,\n",
    "#             p*1000 + 673,\n",
    "            109*10**n_digits(p) + p,\n",
    "            p*1000 + 109,\n",
    "            7*10**n_digits(p) + p,\n",
    "            p*10 + 7,\n",
    "            3*10**n_digits(p) + p,\n",
    "            p*10 + 3\n",
    "        ])):\n",
    "        print(p)\n",
    "        i += 1\n",
    "        if i == 3:\n",
    "            break"
   ]
  },
  {
   "cell_type": "code",
   "execution_count": 15,
   "metadata": {},
   "outputs": [
    {
     "name": "stdout",
     "output_type": "stream",
     "text": [
      "[(1,), (2,), (3,)]\n",
      "[(1, 2), (1, 3), (2, 3)]\n",
      "[(1, 2, 3)]\n"
     ]
    }
   ],
   "source": [
    "print(\n",
    "    list(combinations([1, 2, 3], 1)), \n",
    "    list(combinations([1, 2, 3], 2)), \n",
    "    list(combinations([1, 2, 3], 3)),\n",
    "    sep='\\n'\n",
    ")"
   ]
  },
  {
   "cell_type": "code",
   "execution_count": 16,
   "metadata": {},
   "outputs": [
    {
     "data": {
      "text/plain": [
       "(125, 135, 235, 145, 245, 345)"
      ]
     },
     "execution_count": 16,
     "metadata": {},
     "output_type": "execute_result"
    }
   ],
   "source": [
    "123\n",
    "124, 134, 234\n",
    "125, 135, 235, 145, 245, 345"
   ]
  },
  {
   "cell_type": "code",
   "execution_count": 17,
   "metadata": {},
   "outputs": [
    {
     "data": {
      "text/plain": [
       "[(1, 2, 3),\n",
       " (1, 2, 4),\n",
       " (1, 2, 5),\n",
       " (1, 3, 4),\n",
       " (1, 3, 5),\n",
       " (1, 4, 5),\n",
       " (2, 3, 4),\n",
       " (2, 3, 5),\n",
       " (2, 4, 5),\n",
       " (3, 4, 5)]"
      ]
     },
     "execution_count": 17,
     "metadata": {},
     "output_type": "execute_result"
    }
   ],
   "source": [
    "list(combinations([1, 2, 3, 4, 5], 3))"
   ]
  },
  {
   "cell_type": "code",
   "execution_count": 18,
   "metadata": {},
   "outputs": [
    {
     "data": {
      "text/plain": [
       "[(1, 2, 5), (1, 3, 5), (1, 4, 5), (2, 3, 5), (2, 4, 5), (3, 4, 5)]"
      ]
     },
     "execution_count": 18,
     "metadata": {},
     "output_type": "execute_result"
    }
   ],
   "source": [
    "[x + (5, ) for x in combinations([1, 2, 3, 4], 2)]"
   ]
  },
  {
   "cell_type": "code",
   "execution_count": 19,
   "metadata": {},
   "outputs": [
    {
     "data": {
      "text/plain": [
       "[(3, 5, 11), (3, 7, 11), (5, 7, 11)]"
      ]
     },
     "execution_count": 19,
     "metadata": {},
     "output_type": "execute_result"
    }
   ],
   "source": [
    "[x + (11, ) for x in combinations(primes[1:4], 2)]"
   ]
  },
  {
   "cell_type": "code",
   "execution_count": 20,
   "metadata": {},
   "outputs": [
    {
     "data": {
      "text/plain": [
       "[723, 7109, 237, 23109, 1097, 10923]"
      ]
     },
     "execution_count": 20,
     "metadata": {},
     "output_type": "execute_result"
    }
   ],
   "source": [
    "[x*10**n_digits(y) + y for x, y in permutations((7, 23, 109), 2)]"
   ]
  },
  {
   "cell_type": "code",
   "execution_count": 21,
   "metadata": {},
   "outputs": [
    {
     "data": {
      "text/plain": [
       "727"
      ]
     },
     "execution_count": 21,
     "metadata": {},
     "output_type": "execute_result"
    }
   ],
   "source": [
    "primes[128]"
   ]
  },
  {
   "cell_type": "code",
   "execution_count": 22,
   "metadata": {},
   "outputs": [
    {
     "data": {
      "application/vnd.jupyter.widget-view+json": {
       "model_id": "44c01407d03f41c798322e969c56ac47",
       "version_major": 2,
       "version_minor": 0
      },
      "text/plain": [
       "HBox(children=(IntProgress(value=0, max=32), HTML(value='')))"
      ]
     },
     "metadata": {},
     "output_type": "display_data"
    },
    {
     "name": "stdout",
     "output_type": "stream",
     "text": [
      "\n",
      "Wall time: 14.6 s\n"
     ]
    }
   ],
   "source": [
    "%%time\n",
    "\n",
    "n_tuples_found = 0\n",
    "tuple_size = 4\n",
    "for i, p in tqdm(enumerate(primes[:32]), total=32):\n",
    "    if i < tuple_size:\n",
    "        continue\n",
    "    p_combs = [\n",
    "        comb + (p, ) \n",
    "        for comb \n",
    "        in combinations(\n",
    "            primes[1:i], # skip 2\n",
    "            tuple_size - 1\n",
    "        )\n",
    "    ]\n",
    "    for p_comb in p_combs:\n",
    "        if all(pool.map(\n",
    "            is_prime, \n",
    "            [\n",
    "                p1*10**n_digits(p2) + p2 \n",
    "                for p1, p2 \n",
    "                in permutations(p_comb, 2) # 2 means we concat 2 primes and check if the concat is prime\n",
    "            ]\n",
    "        )):\n",
    "            print(p_comb)\n",
    "            n_tuples_found += 1\n",
    "    if n_tuples_found == 1:\n",
    "        break"
   ]
  },
  {
   "cell_type": "code",
   "execution_count": 26,
   "metadata": {},
   "outputs": [
    {
     "data": {
      "application/vnd.jupyter.widget-view+json": {
       "model_id": "2ee2115455794c89a541c1cdcedbf938",
       "version_major": 2,
       "version_minor": 0
      },
      "text/plain": [
       "HBox(children=(IntProgress(value=0, max=127), HTML(value='')))"
      ]
     },
     "metadata": {},
     "output_type": "display_data"
    },
    {
     "name": "stdout",
     "output_type": "stream",
     "text": [
      "\n",
      "Tuples of size 2 is processed. \n",
      "There are 126 primes left out of 127\n"
     ]
    },
    {
     "data": {
      "application/vnd.jupyter.widget-view+json": {
       "model_id": "949ce6b3b64541dab06d83046d91c1ae",
       "version_major": 2,
       "version_minor": 0
      },
      "text/plain": [
       "HBox(children=(IntProgress(value=0, max=126), HTML(value='')))"
      ]
     },
     "metadata": {},
     "output_type": "display_data"
    },
    {
     "name": "stdout",
     "output_type": "stream",
     "text": [
      "\n",
      "Tuples of size 3 is processed. \n",
      "There are 98 primes left out of 126\n"
     ]
    },
    {
     "data": {
      "application/vnd.jupyter.widget-view+json": {
       "model_id": "5ecde2c3c23b4473908daf5bff92a46a",
       "version_major": 2,
       "version_minor": 0
      },
      "text/plain": [
       "HBox(children=(IntProgress(value=0, max=98), HTML(value='')))"
      ]
     },
     "metadata": {},
     "output_type": "display_data"
    },
    {
     "name": "stdout",
     "output_type": "stream",
     "text": [
      "\n",
      "Tuples of size 4 is processed. \n",
      "There are 38 primes left out of 98\n",
      "Wall time: 36min 15s\n"
     ]
    }
   ],
   "source": [
    "%%time\n",
    "\n",
    "# n_tuples_found = 0\n",
    "primes_in = primes[1:128] # skip 2\n",
    "for tuple_size in range(2, 5):\n",
    "    primes_out = set()\n",
    "    for i, p in tqdm(enumerate(primes_in), total=len(primes_in)):\n",
    "        if i < tuple_size:\n",
    "            continue\n",
    "        p_combs = [\n",
    "            comb + (p, ) \n",
    "            for comb \n",
    "            in combinations(\n",
    "                primes_in[:i],\n",
    "                tuple_size - 1\n",
    "            )\n",
    "        ]\n",
    "        for p_comb in p_combs:\n",
    "            if all(pool.map(\n",
    "                partial(is_prime, primes_smaller=primes_in), \n",
    "                [\n",
    "                    p1*10**n_digits(p2) + p2 \n",
    "                    for p1, p2 \n",
    "                    in permutations(p_comb, 2) # 2 means we concat 2 primes and check if the concat is prime\n",
    "                ]\n",
    "            )):\n",
    "                primes_out.update(p_comb)\n",
    "    #             print(p, p_comb)\n",
    "    #             print(primes_out)\n",
    "    #             n_tuples_found += 1\n",
    "    #     if n_tuples_found == 1:\n",
    "    #         break\n",
    "    primes_out = sorted(primes_out)\n",
    "    print(f'Tuples of size {tuple_size} is processed. \\nThere are {len(primes_out)} primes left out of {len(primes_in)}')\n",
    "    primes_in = primes_out"
   ]
  },
  {
   "cell_type": "code",
   "execution_count": 24,
   "metadata": {},
   "outputs": [
    {
     "data": {
      "text/plain": [
       "4"
      ]
     },
     "execution_count": 24,
     "metadata": {},
     "output_type": "execute_result"
    }
   ],
   "source": [
    "len(primes_out)"
   ]
  },
  {
   "cell_type": "code",
   "execution_count": 25,
   "metadata": {},
   "outputs": [
    {
     "name": "stdout",
     "output_type": "stream",
     "text": [
      "[3, 7, 109, 673]\n"
     ]
    }
   ],
   "source": [
    "print(primes_out)"
   ]
  },
  {
   "cell_type": "code",
   "execution_count": null,
   "metadata": {},
   "outputs": [],
   "source": []
  }
 ],
 "metadata": {
  "kernelspec": {
   "display_name": "Python 3",
   "language": "python",
   "name": "python3"
  },
  "language_info": {
   "codemirror_mode": {
    "name": "ipython",
    "version": 3
   },
   "file_extension": ".py",
   "mimetype": "text/x-python",
   "name": "python",
   "nbconvert_exporter": "python",
   "pygments_lexer": "ipython3",
   "version": "3.7.4"
  }
 },
 "nbformat": 4,
 "nbformat_minor": 2
}
